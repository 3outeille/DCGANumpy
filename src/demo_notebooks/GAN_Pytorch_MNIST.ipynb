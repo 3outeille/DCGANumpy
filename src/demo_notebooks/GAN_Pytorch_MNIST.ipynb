{
  "nbformat": 4,
  "nbformat_minor": 0,
  "metadata": {
    "colab": {
      "name": "GAN-Pytorch-MNIST.ipynb",
      "provenance": [],
      "collapsed_sections": []
    },
    "kernelspec": {
      "name": "python3",
      "display_name": "Python 3"
    },
    "widgets": {
      "application/vnd.jupyter.widget-state+json": {
        "b550b78994774eac8c10f8c2925bb297": {
          "model_module": "@jupyter-widgets/controls",
          "model_name": "HBoxModel",
          "state": {
            "_view_name": "HBoxView",
            "_dom_classes": [],
            "_model_name": "HBoxModel",
            "_view_module": "@jupyter-widgets/controls",
            "_model_module_version": "1.5.0",
            "_view_count": null,
            "_view_module_version": "1.5.0",
            "box_style": "",
            "layout": "IPY_MODEL_bc5e318a7388466da7953b401789d2f0",
            "_model_module": "@jupyter-widgets/controls",
            "children": [
              "IPY_MODEL_5956a28c9e3f4738b98dfa412876e2c2",
              "IPY_MODEL_42a09ee236924a7280eb997b2f795b1b"
            ]
          }
        },
        "bc5e318a7388466da7953b401789d2f0": {
          "model_module": "@jupyter-widgets/base",
          "model_name": "LayoutModel",
          "state": {
            "_view_name": "LayoutView",
            "grid_template_rows": null,
            "right": null,
            "justify_content": null,
            "_view_module": "@jupyter-widgets/base",
            "overflow": null,
            "_model_module_version": "1.2.0",
            "_view_count": null,
            "flex_flow": null,
            "width": null,
            "min_width": null,
            "border": null,
            "align_items": null,
            "bottom": null,
            "_model_module": "@jupyter-widgets/base",
            "top": null,
            "grid_column": null,
            "overflow_y": null,
            "overflow_x": null,
            "grid_auto_flow": null,
            "grid_area": null,
            "grid_template_columns": null,
            "flex": null,
            "_model_name": "LayoutModel",
            "justify_items": null,
            "grid_row": null,
            "max_height": null,
            "align_content": null,
            "visibility": null,
            "align_self": null,
            "height": null,
            "min_height": null,
            "padding": null,
            "grid_auto_rows": null,
            "grid_gap": null,
            "max_width": null,
            "order": null,
            "_view_module_version": "1.2.0",
            "grid_template_areas": null,
            "object_position": null,
            "object_fit": null,
            "grid_auto_columns": null,
            "margin": null,
            "display": null,
            "left": null
          }
        },
        "5956a28c9e3f4738b98dfa412876e2c2": {
          "model_module": "@jupyter-widgets/controls",
          "model_name": "FloatProgressModel",
          "state": {
            "_view_name": "ProgressView",
            "style": "IPY_MODEL_7278077ffa6f4978985e8578a644cf2a",
            "_dom_classes": [],
            "description": "",
            "_model_name": "FloatProgressModel",
            "bar_style": "success",
            "max": 1,
            "_view_module": "@jupyter-widgets/controls",
            "_model_module_version": "1.5.0",
            "value": 1,
            "_view_count": null,
            "_view_module_version": "1.5.0",
            "orientation": "horizontal",
            "min": 0,
            "description_tooltip": null,
            "_model_module": "@jupyter-widgets/controls",
            "layout": "IPY_MODEL_0d7b18ac613b48a881106597365a7bc3"
          }
        },
        "42a09ee236924a7280eb997b2f795b1b": {
          "model_module": "@jupyter-widgets/controls",
          "model_name": "HTMLModel",
          "state": {
            "_view_name": "HTMLView",
            "style": "IPY_MODEL_2dd6a7d17d5c40518e1670e554c5662f",
            "_dom_classes": [],
            "description": "",
            "_model_name": "HTMLModel",
            "placeholder": "​",
            "_view_module": "@jupyter-widgets/controls",
            "_model_module_version": "1.5.0",
            "value": " 9920512/? [00:07&lt;00:00, 1410727.64it/s]",
            "_view_count": null,
            "_view_module_version": "1.5.0",
            "description_tooltip": null,
            "_model_module": "@jupyter-widgets/controls",
            "layout": "IPY_MODEL_dfba4bfa61284e438c9b7bdb1f60c6aa"
          }
        },
        "7278077ffa6f4978985e8578a644cf2a": {
          "model_module": "@jupyter-widgets/controls",
          "model_name": "ProgressStyleModel",
          "state": {
            "_view_name": "StyleView",
            "_model_name": "ProgressStyleModel",
            "description_width": "initial",
            "_view_module": "@jupyter-widgets/base",
            "_model_module_version": "1.5.0",
            "_view_count": null,
            "_view_module_version": "1.2.0",
            "bar_color": null,
            "_model_module": "@jupyter-widgets/controls"
          }
        },
        "0d7b18ac613b48a881106597365a7bc3": {
          "model_module": "@jupyter-widgets/base",
          "model_name": "LayoutModel",
          "state": {
            "_view_name": "LayoutView",
            "grid_template_rows": null,
            "right": null,
            "justify_content": null,
            "_view_module": "@jupyter-widgets/base",
            "overflow": null,
            "_model_module_version": "1.2.0",
            "_view_count": null,
            "flex_flow": null,
            "width": null,
            "min_width": null,
            "border": null,
            "align_items": null,
            "bottom": null,
            "_model_module": "@jupyter-widgets/base",
            "top": null,
            "grid_column": null,
            "overflow_y": null,
            "overflow_x": null,
            "grid_auto_flow": null,
            "grid_area": null,
            "grid_template_columns": null,
            "flex": null,
            "_model_name": "LayoutModel",
            "justify_items": null,
            "grid_row": null,
            "max_height": null,
            "align_content": null,
            "visibility": null,
            "align_self": null,
            "height": null,
            "min_height": null,
            "padding": null,
            "grid_auto_rows": null,
            "grid_gap": null,
            "max_width": null,
            "order": null,
            "_view_module_version": "1.2.0",
            "grid_template_areas": null,
            "object_position": null,
            "object_fit": null,
            "grid_auto_columns": null,
            "margin": null,
            "display": null,
            "left": null
          }
        },
        "2dd6a7d17d5c40518e1670e554c5662f": {
          "model_module": "@jupyter-widgets/controls",
          "model_name": "DescriptionStyleModel",
          "state": {
            "_view_name": "StyleView",
            "_model_name": "DescriptionStyleModel",
            "description_width": "",
            "_view_module": "@jupyter-widgets/base",
            "_model_module_version": "1.5.0",
            "_view_count": null,
            "_view_module_version": "1.2.0",
            "_model_module": "@jupyter-widgets/controls"
          }
        },
        "dfba4bfa61284e438c9b7bdb1f60c6aa": {
          "model_module": "@jupyter-widgets/base",
          "model_name": "LayoutModel",
          "state": {
            "_view_name": "LayoutView",
            "grid_template_rows": null,
            "right": null,
            "justify_content": null,
            "_view_module": "@jupyter-widgets/base",
            "overflow": null,
            "_model_module_version": "1.2.0",
            "_view_count": null,
            "flex_flow": null,
            "width": null,
            "min_width": null,
            "border": null,
            "align_items": null,
            "bottom": null,
            "_model_module": "@jupyter-widgets/base",
            "top": null,
            "grid_column": null,
            "overflow_y": null,
            "overflow_x": null,
            "grid_auto_flow": null,
            "grid_area": null,
            "grid_template_columns": null,
            "flex": null,
            "_model_name": "LayoutModel",
            "justify_items": null,
            "grid_row": null,
            "max_height": null,
            "align_content": null,
            "visibility": null,
            "align_self": null,
            "height": null,
            "min_height": null,
            "padding": null,
            "grid_auto_rows": null,
            "grid_gap": null,
            "max_width": null,
            "order": null,
            "_view_module_version": "1.2.0",
            "grid_template_areas": null,
            "object_position": null,
            "object_fit": null,
            "grid_auto_columns": null,
            "margin": null,
            "display": null,
            "left": null
          }
        },
        "de1f508cb5d847fe885fb57349d04e55": {
          "model_module": "@jupyter-widgets/controls",
          "model_name": "HBoxModel",
          "state": {
            "_view_name": "HBoxView",
            "_dom_classes": [],
            "_model_name": "HBoxModel",
            "_view_module": "@jupyter-widgets/controls",
            "_model_module_version": "1.5.0",
            "_view_count": null,
            "_view_module_version": "1.5.0",
            "box_style": "",
            "layout": "IPY_MODEL_ce818c1b33844fc8b5ee7d3df4fe17ca",
            "_model_module": "@jupyter-widgets/controls",
            "children": [
              "IPY_MODEL_fc88abdca7e54639a9f817fff679a573",
              "IPY_MODEL_206e6590d8024e14942a87a3079b63eb"
            ]
          }
        },
        "ce818c1b33844fc8b5ee7d3df4fe17ca": {
          "model_module": "@jupyter-widgets/base",
          "model_name": "LayoutModel",
          "state": {
            "_view_name": "LayoutView",
            "grid_template_rows": null,
            "right": null,
            "justify_content": null,
            "_view_module": "@jupyter-widgets/base",
            "overflow": null,
            "_model_module_version": "1.2.0",
            "_view_count": null,
            "flex_flow": null,
            "width": null,
            "min_width": null,
            "border": null,
            "align_items": null,
            "bottom": null,
            "_model_module": "@jupyter-widgets/base",
            "top": null,
            "grid_column": null,
            "overflow_y": null,
            "overflow_x": null,
            "grid_auto_flow": null,
            "grid_area": null,
            "grid_template_columns": null,
            "flex": null,
            "_model_name": "LayoutModel",
            "justify_items": null,
            "grid_row": null,
            "max_height": null,
            "align_content": null,
            "visibility": null,
            "align_self": null,
            "height": null,
            "min_height": null,
            "padding": null,
            "grid_auto_rows": null,
            "grid_gap": null,
            "max_width": null,
            "order": null,
            "_view_module_version": "1.2.0",
            "grid_template_areas": null,
            "object_position": null,
            "object_fit": null,
            "grid_auto_columns": null,
            "margin": null,
            "display": null,
            "left": null
          }
        },
        "fc88abdca7e54639a9f817fff679a573": {
          "model_module": "@jupyter-widgets/controls",
          "model_name": "FloatProgressModel",
          "state": {
            "_view_name": "ProgressView",
            "style": "IPY_MODEL_21ef5d1af68742e2ad07216220c8ee68",
            "_dom_classes": [],
            "description": "",
            "_model_name": "FloatProgressModel",
            "bar_style": "success",
            "max": 1,
            "_view_module": "@jupyter-widgets/controls",
            "_model_module_version": "1.5.0",
            "value": 1,
            "_view_count": null,
            "_view_module_version": "1.5.0",
            "orientation": "horizontal",
            "min": 0,
            "description_tooltip": null,
            "_model_module": "@jupyter-widgets/controls",
            "layout": "IPY_MODEL_09bbd1bef0ec40189c79e459d4764a92"
          }
        },
        "206e6590d8024e14942a87a3079b63eb": {
          "model_module": "@jupyter-widgets/controls",
          "model_name": "HTMLModel",
          "state": {
            "_view_name": "HTMLView",
            "style": "IPY_MODEL_4a053fce9987451893b4c47e01be2ed5",
            "_dom_classes": [],
            "description": "",
            "_model_name": "HTMLModel",
            "placeholder": "​",
            "_view_module": "@jupyter-widgets/controls",
            "_model_module_version": "1.5.0",
            "value": " 32768/? [00:01&lt;00:00, 20097.08it/s]",
            "_view_count": null,
            "_view_module_version": "1.5.0",
            "description_tooltip": null,
            "_model_module": "@jupyter-widgets/controls",
            "layout": "IPY_MODEL_45ea947a481d4253994ce3c25161aaac"
          }
        },
        "21ef5d1af68742e2ad07216220c8ee68": {
          "model_module": "@jupyter-widgets/controls",
          "model_name": "ProgressStyleModel",
          "state": {
            "_view_name": "StyleView",
            "_model_name": "ProgressStyleModel",
            "description_width": "initial",
            "_view_module": "@jupyter-widgets/base",
            "_model_module_version": "1.5.0",
            "_view_count": null,
            "_view_module_version": "1.2.0",
            "bar_color": null,
            "_model_module": "@jupyter-widgets/controls"
          }
        },
        "09bbd1bef0ec40189c79e459d4764a92": {
          "model_module": "@jupyter-widgets/base",
          "model_name": "LayoutModel",
          "state": {
            "_view_name": "LayoutView",
            "grid_template_rows": null,
            "right": null,
            "justify_content": null,
            "_view_module": "@jupyter-widgets/base",
            "overflow": null,
            "_model_module_version": "1.2.0",
            "_view_count": null,
            "flex_flow": null,
            "width": null,
            "min_width": null,
            "border": null,
            "align_items": null,
            "bottom": null,
            "_model_module": "@jupyter-widgets/base",
            "top": null,
            "grid_column": null,
            "overflow_y": null,
            "overflow_x": null,
            "grid_auto_flow": null,
            "grid_area": null,
            "grid_template_columns": null,
            "flex": null,
            "_model_name": "LayoutModel",
            "justify_items": null,
            "grid_row": null,
            "max_height": null,
            "align_content": null,
            "visibility": null,
            "align_self": null,
            "height": null,
            "min_height": null,
            "padding": null,
            "grid_auto_rows": null,
            "grid_gap": null,
            "max_width": null,
            "order": null,
            "_view_module_version": "1.2.0",
            "grid_template_areas": null,
            "object_position": null,
            "object_fit": null,
            "grid_auto_columns": null,
            "margin": null,
            "display": null,
            "left": null
          }
        },
        "4a053fce9987451893b4c47e01be2ed5": {
          "model_module": "@jupyter-widgets/controls",
          "model_name": "DescriptionStyleModel",
          "state": {
            "_view_name": "StyleView",
            "_model_name": "DescriptionStyleModel",
            "description_width": "",
            "_view_module": "@jupyter-widgets/base",
            "_model_module_version": "1.5.0",
            "_view_count": null,
            "_view_module_version": "1.2.0",
            "_model_module": "@jupyter-widgets/controls"
          }
        },
        "45ea947a481d4253994ce3c25161aaac": {
          "model_module": "@jupyter-widgets/base",
          "model_name": "LayoutModel",
          "state": {
            "_view_name": "LayoutView",
            "grid_template_rows": null,
            "right": null,
            "justify_content": null,
            "_view_module": "@jupyter-widgets/base",
            "overflow": null,
            "_model_module_version": "1.2.0",
            "_view_count": null,
            "flex_flow": null,
            "width": null,
            "min_width": null,
            "border": null,
            "align_items": null,
            "bottom": null,
            "_model_module": "@jupyter-widgets/base",
            "top": null,
            "grid_column": null,
            "overflow_y": null,
            "overflow_x": null,
            "grid_auto_flow": null,
            "grid_area": null,
            "grid_template_columns": null,
            "flex": null,
            "_model_name": "LayoutModel",
            "justify_items": null,
            "grid_row": null,
            "max_height": null,
            "align_content": null,
            "visibility": null,
            "align_self": null,
            "height": null,
            "min_height": null,
            "padding": null,
            "grid_auto_rows": null,
            "grid_gap": null,
            "max_width": null,
            "order": null,
            "_view_module_version": "1.2.0",
            "grid_template_areas": null,
            "object_position": null,
            "object_fit": null,
            "grid_auto_columns": null,
            "margin": null,
            "display": null,
            "left": null
          }
        },
        "1ddc8ebd8db148738143e924a33db097": {
          "model_module": "@jupyter-widgets/controls",
          "model_name": "HBoxModel",
          "state": {
            "_view_name": "HBoxView",
            "_dom_classes": [],
            "_model_name": "HBoxModel",
            "_view_module": "@jupyter-widgets/controls",
            "_model_module_version": "1.5.0",
            "_view_count": null,
            "_view_module_version": "1.5.0",
            "box_style": "",
            "layout": "IPY_MODEL_74632aa087ac480f9693c5e2c516b537",
            "_model_module": "@jupyter-widgets/controls",
            "children": [
              "IPY_MODEL_4221e621ba144a24b2b853a596329178",
              "IPY_MODEL_d07ba2b6cc8d42b98610bc778679c228"
            ]
          }
        },
        "74632aa087ac480f9693c5e2c516b537": {
          "model_module": "@jupyter-widgets/base",
          "model_name": "LayoutModel",
          "state": {
            "_view_name": "LayoutView",
            "grid_template_rows": null,
            "right": null,
            "justify_content": null,
            "_view_module": "@jupyter-widgets/base",
            "overflow": null,
            "_model_module_version": "1.2.0",
            "_view_count": null,
            "flex_flow": null,
            "width": null,
            "min_width": null,
            "border": null,
            "align_items": null,
            "bottom": null,
            "_model_module": "@jupyter-widgets/base",
            "top": null,
            "grid_column": null,
            "overflow_y": null,
            "overflow_x": null,
            "grid_auto_flow": null,
            "grid_area": null,
            "grid_template_columns": null,
            "flex": null,
            "_model_name": "LayoutModel",
            "justify_items": null,
            "grid_row": null,
            "max_height": null,
            "align_content": null,
            "visibility": null,
            "align_self": null,
            "height": null,
            "min_height": null,
            "padding": null,
            "grid_auto_rows": null,
            "grid_gap": null,
            "max_width": null,
            "order": null,
            "_view_module_version": "1.2.0",
            "grid_template_areas": null,
            "object_position": null,
            "object_fit": null,
            "grid_auto_columns": null,
            "margin": null,
            "display": null,
            "left": null
          }
        },
        "4221e621ba144a24b2b853a596329178": {
          "model_module": "@jupyter-widgets/controls",
          "model_name": "FloatProgressModel",
          "state": {
            "_view_name": "ProgressView",
            "style": "IPY_MODEL_24c408aea8734c66b5c55f2cf6fd18e7",
            "_dom_classes": [],
            "description": "",
            "_model_name": "FloatProgressModel",
            "bar_style": "success",
            "max": 1,
            "_view_module": "@jupyter-widgets/controls",
            "_model_module_version": "1.5.0",
            "value": 1,
            "_view_count": null,
            "_view_module_version": "1.5.0",
            "orientation": "horizontal",
            "min": 0,
            "description_tooltip": null,
            "_model_module": "@jupyter-widgets/controls",
            "layout": "IPY_MODEL_9257e3d5a65340aa8559bdfb15ebc5b1"
          }
        },
        "d07ba2b6cc8d42b98610bc778679c228": {
          "model_module": "@jupyter-widgets/controls",
          "model_name": "HTMLModel",
          "state": {
            "_view_name": "HTMLView",
            "style": "IPY_MODEL_7b296eb39be4459394909aec554a8064",
            "_dom_classes": [],
            "description": "",
            "_model_name": "HTMLModel",
            "placeholder": "​",
            "_view_module": "@jupyter-widgets/controls",
            "_model_module_version": "1.5.0",
            "value": " 1654784/? [00:01&lt;00:00, 1392907.48it/s]",
            "_view_count": null,
            "_view_module_version": "1.5.0",
            "description_tooltip": null,
            "_model_module": "@jupyter-widgets/controls",
            "layout": "IPY_MODEL_50dda47baf6b4ec4aa6f29854c885d66"
          }
        },
        "24c408aea8734c66b5c55f2cf6fd18e7": {
          "model_module": "@jupyter-widgets/controls",
          "model_name": "ProgressStyleModel",
          "state": {
            "_view_name": "StyleView",
            "_model_name": "ProgressStyleModel",
            "description_width": "initial",
            "_view_module": "@jupyter-widgets/base",
            "_model_module_version": "1.5.0",
            "_view_count": null,
            "_view_module_version": "1.2.0",
            "bar_color": null,
            "_model_module": "@jupyter-widgets/controls"
          }
        },
        "9257e3d5a65340aa8559bdfb15ebc5b1": {
          "model_module": "@jupyter-widgets/base",
          "model_name": "LayoutModel",
          "state": {
            "_view_name": "LayoutView",
            "grid_template_rows": null,
            "right": null,
            "justify_content": null,
            "_view_module": "@jupyter-widgets/base",
            "overflow": null,
            "_model_module_version": "1.2.0",
            "_view_count": null,
            "flex_flow": null,
            "width": null,
            "min_width": null,
            "border": null,
            "align_items": null,
            "bottom": null,
            "_model_module": "@jupyter-widgets/base",
            "top": null,
            "grid_column": null,
            "overflow_y": null,
            "overflow_x": null,
            "grid_auto_flow": null,
            "grid_area": null,
            "grid_template_columns": null,
            "flex": null,
            "_model_name": "LayoutModel",
            "justify_items": null,
            "grid_row": null,
            "max_height": null,
            "align_content": null,
            "visibility": null,
            "align_self": null,
            "height": null,
            "min_height": null,
            "padding": null,
            "grid_auto_rows": null,
            "grid_gap": null,
            "max_width": null,
            "order": null,
            "_view_module_version": "1.2.0",
            "grid_template_areas": null,
            "object_position": null,
            "object_fit": null,
            "grid_auto_columns": null,
            "margin": null,
            "display": null,
            "left": null
          }
        },
        "7b296eb39be4459394909aec554a8064": {
          "model_module": "@jupyter-widgets/controls",
          "model_name": "DescriptionStyleModel",
          "state": {
            "_view_name": "StyleView",
            "_model_name": "DescriptionStyleModel",
            "description_width": "",
            "_view_module": "@jupyter-widgets/base",
            "_model_module_version": "1.5.0",
            "_view_count": null,
            "_view_module_version": "1.2.0",
            "_model_module": "@jupyter-widgets/controls"
          }
        },
        "50dda47baf6b4ec4aa6f29854c885d66": {
          "model_module": "@jupyter-widgets/base",
          "model_name": "LayoutModel",
          "state": {
            "_view_name": "LayoutView",
            "grid_template_rows": null,
            "right": null,
            "justify_content": null,
            "_view_module": "@jupyter-widgets/base",
            "overflow": null,
            "_model_module_version": "1.2.0",
            "_view_count": null,
            "flex_flow": null,
            "width": null,
            "min_width": null,
            "border": null,
            "align_items": null,
            "bottom": null,
            "_model_module": "@jupyter-widgets/base",
            "top": null,
            "grid_column": null,
            "overflow_y": null,
            "overflow_x": null,
            "grid_auto_flow": null,
            "grid_area": null,
            "grid_template_columns": null,
            "flex": null,
            "_model_name": "LayoutModel",
            "justify_items": null,
            "grid_row": null,
            "max_height": null,
            "align_content": null,
            "visibility": null,
            "align_self": null,
            "height": null,
            "min_height": null,
            "padding": null,
            "grid_auto_rows": null,
            "grid_gap": null,
            "max_width": null,
            "order": null,
            "_view_module_version": "1.2.0",
            "grid_template_areas": null,
            "object_position": null,
            "object_fit": null,
            "grid_auto_columns": null,
            "margin": null,
            "display": null,
            "left": null
          }
        },
        "ee7d54bcb0a34b0980e894338d237485": {
          "model_module": "@jupyter-widgets/controls",
          "model_name": "HBoxModel",
          "state": {
            "_view_name": "HBoxView",
            "_dom_classes": [],
            "_model_name": "HBoxModel",
            "_view_module": "@jupyter-widgets/controls",
            "_model_module_version": "1.5.0",
            "_view_count": null,
            "_view_module_version": "1.5.0",
            "box_style": "",
            "layout": "IPY_MODEL_03979a3943b142c981ad75cbdf541b99",
            "_model_module": "@jupyter-widgets/controls",
            "children": [
              "IPY_MODEL_79d80bf4ec204d7a907c4e16e3dfbdfc",
              "IPY_MODEL_19402368dcc8429abf1c691d7089039d"
            ]
          }
        },
        "03979a3943b142c981ad75cbdf541b99": {
          "model_module": "@jupyter-widgets/base",
          "model_name": "LayoutModel",
          "state": {
            "_view_name": "LayoutView",
            "grid_template_rows": null,
            "right": null,
            "justify_content": null,
            "_view_module": "@jupyter-widgets/base",
            "overflow": null,
            "_model_module_version": "1.2.0",
            "_view_count": null,
            "flex_flow": null,
            "width": null,
            "min_width": null,
            "border": null,
            "align_items": null,
            "bottom": null,
            "_model_module": "@jupyter-widgets/base",
            "top": null,
            "grid_column": null,
            "overflow_y": null,
            "overflow_x": null,
            "grid_auto_flow": null,
            "grid_area": null,
            "grid_template_columns": null,
            "flex": null,
            "_model_name": "LayoutModel",
            "justify_items": null,
            "grid_row": null,
            "max_height": null,
            "align_content": null,
            "visibility": null,
            "align_self": null,
            "height": null,
            "min_height": null,
            "padding": null,
            "grid_auto_rows": null,
            "grid_gap": null,
            "max_width": null,
            "order": null,
            "_view_module_version": "1.2.0",
            "grid_template_areas": null,
            "object_position": null,
            "object_fit": null,
            "grid_auto_columns": null,
            "margin": null,
            "display": null,
            "left": null
          }
        },
        "79d80bf4ec204d7a907c4e16e3dfbdfc": {
          "model_module": "@jupyter-widgets/controls",
          "model_name": "FloatProgressModel",
          "state": {
            "_view_name": "ProgressView",
            "style": "IPY_MODEL_064515aa5a3f40dd98c84a06be298427",
            "_dom_classes": [],
            "description": "",
            "_model_name": "FloatProgressModel",
            "bar_style": "success",
            "max": 1,
            "_view_module": "@jupyter-widgets/controls",
            "_model_module_version": "1.5.0",
            "value": 1,
            "_view_count": null,
            "_view_module_version": "1.5.0",
            "orientation": "horizontal",
            "min": 0,
            "description_tooltip": null,
            "_model_module": "@jupyter-widgets/controls",
            "layout": "IPY_MODEL_c7ffc5cc7aa84bd8b709b6addb728816"
          }
        },
        "19402368dcc8429abf1c691d7089039d": {
          "model_module": "@jupyter-widgets/controls",
          "model_name": "HTMLModel",
          "state": {
            "_view_name": "HTMLView",
            "style": "IPY_MODEL_e09cbf4ca9ab493ead52521730169772",
            "_dom_classes": [],
            "description": "",
            "_model_name": "HTMLModel",
            "placeholder": "​",
            "_view_module": "@jupyter-widgets/controls",
            "_model_module_version": "1.5.0",
            "value": " 8192/? [00:00&lt;00:00, 16876.93it/s]",
            "_view_count": null,
            "_view_module_version": "1.5.0",
            "description_tooltip": null,
            "_model_module": "@jupyter-widgets/controls",
            "layout": "IPY_MODEL_a9f71110ca6843cabf68a0712a0285b5"
          }
        },
        "064515aa5a3f40dd98c84a06be298427": {
          "model_module": "@jupyter-widgets/controls",
          "model_name": "ProgressStyleModel",
          "state": {
            "_view_name": "StyleView",
            "_model_name": "ProgressStyleModel",
            "description_width": "initial",
            "_view_module": "@jupyter-widgets/base",
            "_model_module_version": "1.5.0",
            "_view_count": null,
            "_view_module_version": "1.2.0",
            "bar_color": null,
            "_model_module": "@jupyter-widgets/controls"
          }
        },
        "c7ffc5cc7aa84bd8b709b6addb728816": {
          "model_module": "@jupyter-widgets/base",
          "model_name": "LayoutModel",
          "state": {
            "_view_name": "LayoutView",
            "grid_template_rows": null,
            "right": null,
            "justify_content": null,
            "_view_module": "@jupyter-widgets/base",
            "overflow": null,
            "_model_module_version": "1.2.0",
            "_view_count": null,
            "flex_flow": null,
            "width": null,
            "min_width": null,
            "border": null,
            "align_items": null,
            "bottom": null,
            "_model_module": "@jupyter-widgets/base",
            "top": null,
            "grid_column": null,
            "overflow_y": null,
            "overflow_x": null,
            "grid_auto_flow": null,
            "grid_area": null,
            "grid_template_columns": null,
            "flex": null,
            "_model_name": "LayoutModel",
            "justify_items": null,
            "grid_row": null,
            "max_height": null,
            "align_content": null,
            "visibility": null,
            "align_self": null,
            "height": null,
            "min_height": null,
            "padding": null,
            "grid_auto_rows": null,
            "grid_gap": null,
            "max_width": null,
            "order": null,
            "_view_module_version": "1.2.0",
            "grid_template_areas": null,
            "object_position": null,
            "object_fit": null,
            "grid_auto_columns": null,
            "margin": null,
            "display": null,
            "left": null
          }
        },
        "e09cbf4ca9ab493ead52521730169772": {
          "model_module": "@jupyter-widgets/controls",
          "model_name": "DescriptionStyleModel",
          "state": {
            "_view_name": "StyleView",
            "_model_name": "DescriptionStyleModel",
            "description_width": "",
            "_view_module": "@jupyter-widgets/base",
            "_model_module_version": "1.5.0",
            "_view_count": null,
            "_view_module_version": "1.2.0",
            "_model_module": "@jupyter-widgets/controls"
          }
        },
        "a9f71110ca6843cabf68a0712a0285b5": {
          "model_module": "@jupyter-widgets/base",
          "model_name": "LayoutModel",
          "state": {
            "_view_name": "LayoutView",
            "grid_template_rows": null,
            "right": null,
            "justify_content": null,
            "_view_module": "@jupyter-widgets/base",
            "overflow": null,
            "_model_module_version": "1.2.0",
            "_view_count": null,
            "flex_flow": null,
            "width": null,
            "min_width": null,
            "border": null,
            "align_items": null,
            "bottom": null,
            "_model_module": "@jupyter-widgets/base",
            "top": null,
            "grid_column": null,
            "overflow_y": null,
            "overflow_x": null,
            "grid_auto_flow": null,
            "grid_area": null,
            "grid_template_columns": null,
            "flex": null,
            "_model_name": "LayoutModel",
            "justify_items": null,
            "grid_row": null,
            "max_height": null,
            "align_content": null,
            "visibility": null,
            "align_self": null,
            "height": null,
            "min_height": null,
            "padding": null,
            "grid_auto_rows": null,
            "grid_gap": null,
            "max_width": null,
            "order": null,
            "_view_module_version": "1.2.0",
            "grid_template_areas": null,
            "object_position": null,
            "object_fit": null,
            "grid_auto_columns": null,
            "margin": null,
            "display": null,
            "left": null
          }
        }
      }
    },
    "accelerator": "GPU"
  },
  "cells": [
    {
      "cell_type": "code",
      "metadata": {
        "id": "fJA1_iOvX6jr",
        "colab_type": "code",
        "colab": {}
      },
      "source": [
        "import os\n",
        "import shutil\n",
        "import time\n",
        "import pickle\n",
        "import imageio\n",
        "import itertools\n",
        "import numpy as np\n",
        "import torch\n",
        "import torch.nn as nn\n",
        "from torch.utils.data import DataLoader, random_split\n",
        "from torchvision import transforms, datasets\n",
        "import torch.optim as optim\n",
        "from IPython.display import clear_output\n",
        "from collections import OrderedDict\n",
        "import matplotlib.pyplot as plt\n",
        "from torch.autograd import Variable\n",
        "%matplotlib inline"
      ],
      "execution_count": 1,
      "outputs": []
    },
    {
      "cell_type": "markdown",
      "metadata": {
        "id": "BhC1xcUoYMdA",
        "colab_type": "text"
      },
      "source": [
        "# I) Loading dataset / Preprocessing"
      ]
    },
    {
      "cell_type": "code",
      "metadata": {
        "id": "eetlt3tEYN95",
        "colab_type": "code",
        "colab": {}
      },
      "source": [
        "is_gpu_available = torch.cuda.is_available()"
      ],
      "execution_count": 2,
      "outputs": []
    },
    {
      "cell_type": "code",
      "metadata": {
        "id": "9RFkNBS6Yi3U",
        "colab_type": "code",
        "colab": {}
      },
      "source": [
        "def load_mnist():\n",
        "    transform = transforms.Compose([transforms.ToTensor(),\n",
        "                                    transforms.Normalize(mean=[0.5], std=[0.5])])\n",
        "            \n",
        "    train_dataset = datasets.MNIST('./data', train=True, download=True, transform=transform)\n",
        "    \n",
        "    # Clear downloading message.\n",
        "    clear_output()\n",
        "\n",
        "    print(\"Image Shape: {}\".format(train_dataset[0][0].numpy().shape), end = '\\n\\n')\n",
        "    print(\"Training Set:   {} samples\".format(len(train_dataset)))\n",
        "    \n",
        "    # Create iterator.\n",
        "    train_loader = DataLoader(train_dataset, batch_size=100, shuffle=True)\n",
        "    \n",
        "    # Delete the data/ folder.\n",
        "    shutil.rmtree('./data')\n",
        "    \n",
        "    return train_loader"
      ],
      "execution_count": 3,
      "outputs": []
    },
    {
      "cell_type": "code",
      "metadata": {
        "id": "9Av-BesjYj__",
        "colab_type": "code",
        "colab": {
          "base_uri": "https://localhost:8080/",
          "height": 72,
          "referenced_widgets": [
            "b550b78994774eac8c10f8c2925bb297",
            "bc5e318a7388466da7953b401789d2f0",
            "5956a28c9e3f4738b98dfa412876e2c2",
            "42a09ee236924a7280eb997b2f795b1b",
            "7278077ffa6f4978985e8578a644cf2a",
            "0d7b18ac613b48a881106597365a7bc3",
            "2dd6a7d17d5c40518e1670e554c5662f",
            "dfba4bfa61284e438c9b7bdb1f60c6aa",
            "de1f508cb5d847fe885fb57349d04e55",
            "ce818c1b33844fc8b5ee7d3df4fe17ca",
            "fc88abdca7e54639a9f817fff679a573",
            "206e6590d8024e14942a87a3079b63eb",
            "21ef5d1af68742e2ad07216220c8ee68",
            "09bbd1bef0ec40189c79e459d4764a92",
            "4a053fce9987451893b4c47e01be2ed5",
            "45ea947a481d4253994ce3c25161aaac",
            "1ddc8ebd8db148738143e924a33db097",
            "74632aa087ac480f9693c5e2c516b537",
            "4221e621ba144a24b2b853a596329178",
            "d07ba2b6cc8d42b98610bc778679c228",
            "24c408aea8734c66b5c55f2cf6fd18e7",
            "9257e3d5a65340aa8559bdfb15ebc5b1",
            "7b296eb39be4459394909aec554a8064",
            "50dda47baf6b4ec4aa6f29854c885d66",
            "ee7d54bcb0a34b0980e894338d237485",
            "03979a3943b142c981ad75cbdf541b99",
            "79d80bf4ec204d7a907c4e16e3dfbdfc",
            "19402368dcc8429abf1c691d7089039d",
            "064515aa5a3f40dd98c84a06be298427",
            "c7ffc5cc7aa84bd8b709b6addb728816",
            "e09cbf4ca9ab493ead52521730169772",
            "a9f71110ca6843cabf68a0712a0285b5"
          ]
        },
        "outputId": "7807546d-d0a4-40fe-9b30-562b1ec6468f"
      },
      "source": [
        "train_loader = load_mnist()"
      ],
      "execution_count": 4,
      "outputs": [
        {
          "output_type": "stream",
          "text": [
            "Image Shape: (1, 28, 28)\n",
            "\n",
            "Training Set:   60000 samples\n"
          ],
          "name": "stdout"
        }
      ]
    },
    {
      "cell_type": "markdown",
      "metadata": {
        "id": "AvSUf-o6YqmP",
        "colab_type": "text"
      },
      "source": [
        "# II) Visualization"
      ]
    },
    {
      "cell_type": "code",
      "metadata": {
        "id": "46jc1zKUYog7",
        "colab_type": "code",
        "colab": {
          "base_uri": "https://localhost:8080/",
          "height": 54
        },
        "outputId": "652c2224-da4b-40b0-fa83-ddc91b179d32"
      },
      "source": [
        "def plot_example(X, y, y_pred=None):\n",
        "    \"\"\"\n",
        "        Plots 9 examples and their associate labels.\n",
        "        \n",
        "        Parameters:\n",
        "        -X: Training examples.\n",
        "        -y: true labels.\n",
        "        -y_pred: predicted labels.\n",
        "    \"\"\"\n",
        "    # Create figure with 3 x 3 sub-plots.\n",
        "    fig, axes = plt.subplots(3, 3)\n",
        "    fig.subplots_adjust(hspace=0.3, wspace=0.3)\n",
        "     \n",
        "    X, y = X[:9, 0, ...], y[:9] \n",
        "    \n",
        "    for i, ax in enumerate(axes.flat):\n",
        "        # Plot image.\n",
        "        ax.imshow(X[i])\n",
        "\n",
        "        # Show true and predicted classes.\n",
        "        if y_pred is None:\n",
        "            xlabel = \"True: {0}\".format(y[i])\n",
        "        else:\n",
        "            xlabel = \"True: {0}, Pred: {1}\".format(y[i], y_pred[i])\n",
        "\n",
        "        # Show the classes as the label on the x-axis.\n",
        "        ax.set_xlabel(xlabel)\n",
        "        \n",
        "        # Remove ticks from the plot.\n",
        "        ax.set_xticks([])\n",
        "        ax.set_yticks([])\n",
        "    \n",
        "    # Ensure the plot is shown correctly with multiple plots in a single Notebook cell.\n",
        "    plt.show()"
      ],
      "execution_count": 5,
      "outputs": [
        {
          "output_type": "stream",
          "text": [
            "\n",
            "\n"
          ],
          "name": "stdout"
        }
      ]
    },
    {
      "cell_type": "code",
      "metadata": {
        "id": "oEYkJ-j9YuSd",
        "colab_type": "code",
        "colab": {}
      },
      "source": [
        "def plot_example_errors(X, y, y_pred):\n",
        "    \"\"\"\n",
        "        Plots 9 example errors and their associate true/predicted labels.\n",
        "        \n",
        "        Parameters:\n",
        "        -X: Training examples.\n",
        "        -y: true labels.\n",
        "        -y_pred: predicted labels.\n",
        "    \n",
        "    \"\"\"\n",
        "    incorrect = (y != y_pred)\n",
        " \n",
        "    X = X[incorrect]\n",
        "    y = y[incorrect]\n",
        "    y_pred = y_pred[incorrect]\n",
        "\n",
        "    # Plot the first 9 images.\n",
        "    plot_example(X, y, y_pred)"
      ],
      "execution_count": 6,
      "outputs": []
    },
    {
      "cell_type": "code",
      "metadata": {
        "id": "6CJAwVHxY77P",
        "colab_type": "code",
        "colab": {
          "base_uri": "https://localhost:8080/",
          "height": 299
        },
        "outputId": "53613a2c-f55b-4ea5-c7ce-91c400e4457f"
      },
      "source": [
        "images, labels = iter(train_loader).next()\n",
        "plot_example(images.numpy(), labels.numpy())"
      ],
      "execution_count": 7,
      "outputs": [
        {
          "output_type": "stream",
          "text": [
            "\n",
            "\n"
          ],
          "name": "stdout"
        },
        {
          "output_type": "display_data",
          "data": {
            "image/png": "[encoded data removed]",
            "text/plain": [
              "<Figure size 432x288 with 9 Axes>"
            ]
          },
          "metadata": {
            "tags": []
          }
        }
      ]
    },
    {
      "cell_type": "markdown",
      "metadata": {
        "id": "Oi1zqck9Y98e",
        "colab_type": "text"
      },
      "source": [
        "# III) Architecture build¶"
      ]
    },
    {
      "cell_type": "markdown",
      "metadata": {
        "id": "vDg9dCWgZAGH",
        "colab_type": "text"
      },
      "source": [
        "## a) Generator"
      ]
    },
    {
      "cell_type": "code",
      "metadata": {
        "id": "CRdXtYU2Y-uv",
        "colab_type": "code",
        "colab": {}
      },
      "source": [
        "class Generator(nn.Module):\n",
        "    \n",
        "    def __init__(self):\n",
        "        super(Generator, self).__init__()\n",
        "        \n",
        "        self.network = nn.Sequential(OrderedDict([\n",
        "            ('fc1', nn.Linear(100, 256)),\n",
        "            ('act1', nn.LeakyReLU(0.2)),\n",
        "            ('fc2', nn.Linear(256, 512)),\n",
        "            ('act2', nn.LeakyReLU(0.2)),\n",
        "            ('fc3', nn.Linear(512, 1024)),\n",
        "            ('act3', nn.LeakyReLU(0.2)),\n",
        "            ('fc4', nn.Linear(1024, 28*28)),\n",
        "            ('act4', nn.Tanh())\n",
        "        ]))\n",
        "\n",
        "#     def init_weights(self, mean, std):\n",
        "#         for m in self._modules['network']:\n",
        "#             if isinstance(m, nn.ConvTranspose2d) or isinstance(m, nn.Conv2d):\n",
        "#                 m.weight.data.normal_(mean, std)\n",
        "#                 m.bias.data.zero_()\n",
        "    \n",
        "    def forward(self, x):\n",
        "        out = self.network(x)\n",
        "        return out"
      ],
      "execution_count": 8,
      "outputs": []
    },
    {
      "cell_type": "code",
      "metadata": {
        "id": "EwYd_-gTZUNs",
        "colab_type": "code",
        "colab": {
          "base_uri": "https://localhost:8080/",
          "height": 237
        },
        "outputId": "bfa2616b-7eb8-4eb0-f8a2-143c7989809d"
      },
      "source": [
        "G = Generator()\n",
        "# G.init_weights(mean=0.0, std=0.02)\n",
        "G"
      ],
      "execution_count": 9,
      "outputs": [
        {
          "output_type": "execute_result",
          "data": {
            "text/plain": [
              "Generator(\n",
              "  (network): Sequential(\n",
              "    (fc1): Linear(in_features=100, out_features=256, bias=True)\n",
              "    (act1): LeakyReLU(negative_slope=0.2)\n",
              "    (fc2): Linear(in_features=256, out_features=512, bias=True)\n",
              "    (act2): LeakyReLU(negative_slope=0.2)\n",
              "    (fc3): Linear(in_features=512, out_features=1024, bias=True)\n",
              "    (act3): LeakyReLU(negative_slope=0.2)\n",
              "    (fc4): Linear(in_features=1024, out_features=784, bias=True)\n",
              "    (act4): Tanh()\n",
              "  )\n",
              ")"
            ]
          },
          "metadata": {
            "tags": []
          },
          "execution_count": 9
        }
      ]
    },
    {
      "cell_type": "markdown",
      "metadata": {
        "id": "F2mV9ArKZVVW",
        "colab_type": "text"
      },
      "source": [
        "## b) Discriminator"
      ]
    },
    {
      "cell_type": "code",
      "metadata": {
        "id": "phhVUvKGZWYH",
        "colab_type": "code",
        "colab": {}
      },
      "source": [
        "class PrintLayer(nn.Module):\n",
        "    def __init__(self):\n",
        "        super(PrintLayer, self).__init__()\n",
        "    \n",
        "    def forward(self, x):\n",
        "        # Do your print / debug stuff here\n",
        "        print(x.shape)\n",
        "        return x\n",
        "\n",
        "class Discriminator(nn.Module):\n",
        "    \n",
        "    def __init__(self):\n",
        "        super(Discriminator, self).__init__()\n",
        "        \n",
        "        self.network = nn.Sequential(OrderedDict([\n",
        "            ('fc1', nn.Linear(28*28, 1024)),\n",
        "            ('act1', nn.LeakyReLU(0.2)),\n",
        "            ('drop1', nn.Dropout(0.3)),\n",
        "\n",
        "            ('fc2', nn.Linear(1024, 512)),\n",
        "            ('act2', nn.LeakyReLU(0.2)),\n",
        "            ('drop2', nn.Dropout(0.3)),\n",
        "            \n",
        "            ('fc3', nn.Linear(512, 256)),\n",
        "            ('act3', nn.LeakyReLU(0.2)),\n",
        "            ('drop3', nn.Dropout(0.3)),\n",
        "            \n",
        "            ('fc4', nn.Linear(256, 1)),\n",
        "            ('act4', nn.Sigmoid())       \n",
        "        ]))\n",
        "    \n",
        "#     def init_weights(self, mean, std):\n",
        "#         for m in self._modules['network']:\n",
        "#             if isinstance(m, nn.ConvTranspose2d) or isinstance(m, nn.Conv2d):\n",
        "#                 m.weight.data.normal_(mean, std)\n",
        "#                 m.bias.data.zero_()\n",
        "\n",
        "    def forward(self, x):\n",
        "        out = self.network(x)\n",
        "        return out"
      ],
      "execution_count": 10,
      "outputs": []
    },
    {
      "cell_type": "code",
      "metadata": {
        "id": "D9MmeXApZf2V",
        "colab_type": "code",
        "colab": {
          "base_uri": "https://localhost:8080/",
          "height": 293
        },
        "outputId": "22817eba-1255-44e8-b2c6-6542b3cfc5d7"
      },
      "source": [
        "D = Discriminator()\n",
        "# D.init_weights(mean=0.0, std=0.02)\n",
        "D"
      ],
      "execution_count": 11,
      "outputs": [
        {
          "output_type": "execute_result",
          "data": {
            "text/plain": [
              "Discriminator(\n",
              "  (network): Sequential(\n",
              "    (fc1): Linear(in_features=784, out_features=1024, bias=True)\n",
              "    (act1): LeakyReLU(negative_slope=0.2)\n",
              "    (drop1): Dropout(p=0.3, inplace=False)\n",
              "    (fc2): Linear(in_features=1024, out_features=512, bias=True)\n",
              "    (act2): LeakyReLU(negative_slope=0.2)\n",
              "    (drop2): Dropout(p=0.3, inplace=False)\n",
              "    (fc3): Linear(in_features=512, out_features=256, bias=True)\n",
              "    (act3): LeakyReLU(negative_slope=0.2)\n",
              "    (drop3): Dropout(p=0.3, inplace=False)\n",
              "    (fc4): Linear(in_features=256, out_features=1, bias=True)\n",
              "    (act4): Sigmoid()\n",
              "  )\n",
              ")"
            ]
          },
          "metadata": {
            "tags": []
          },
          "execution_count": 11
        }
      ]
    },
    {
      "cell_type": "markdown",
      "metadata": {
        "id": "9QjAgJECZiVk",
        "colab_type": "text"
      },
      "source": [
        "## c) Optimizers & Loss"
      ]
    },
    {
      "cell_type": "code",
      "metadata": {
        "id": "JpKjZyeNZjVo",
        "colab_type": "code",
        "colab": {}
      },
      "source": [
        "# Optimizers.\n",
        "D_optimizer = optim.Adam(D.parameters(), lr=0.0002)\n",
        "G_optimizer = optim.Adam(G.parameters(), lr=0.0002)\n",
        "\n",
        "criterion = nn.BCELoss()\n",
        "\n",
        "# Loss.\n",
        "def real_loss(D_out, smooth=False):\n",
        "    '''\n",
        "        Calculates how close discriminator outputs are to being real.\n",
        "        \n",
        "        Params:\n",
        "        -D_out: discriminator logits.\n",
        "    '''\n",
        "    batch_size = D_out.size(0)\n",
        "    \n",
        "    # label smoothing.\n",
        "    if smooth:\n",
        "        labels = torch.ones(batch_size)*0.9\n",
        "    else:\n",
        "        labels = torch.ones(batch_size) # real labels = 1.\n",
        "\n",
        "    if is_gpu_available:\n",
        "        labels = labels.cuda()\n",
        "\n",
        "    # calculate loss\n",
        "    loss = criterion(D_out.squeeze(), labels)\n",
        "    \n",
        "    return loss\n",
        "\n",
        "def fake_loss(D_out):\n",
        "    '''\n",
        "        Calculates how close discriminator outputs are to being fake.\n",
        "        \n",
        "        Params:\n",
        "        -D_out: discriminator logits.\n",
        "    '''\n",
        "    batch_size = D_out.size(0)\n",
        "    labels = torch.zeros(batch_size) # fake labels = 0.\n",
        "    \n",
        "    if is_gpu_available:\n",
        "        labels = labels.cuda()\n",
        "    \n",
        "    # Calculate loss.\n",
        "    loss = criterion(D_out.squeeze(), labels)\n",
        "    return loss"
      ],
      "execution_count": 12,
      "outputs": []
    },
    {
      "cell_type": "markdown",
      "metadata": {
        "id": "I89MIkaIZkbm",
        "colab_type": "text"
      },
      "source": [
        "## d) Utility functions"
      ]
    },
    {
      "cell_type": "code",
      "metadata": {
        "id": "gJp0qGEfZnE3",
        "colab_type": "code",
        "colab": {}
      },
      "source": [
        "def show_result(num_epoch, show = False, save = False, path = 'result.png'):\n",
        "\n",
        "    G.eval()\n",
        "\n",
        "    z_ = torch.randn((5*5, 100))\n",
        "\n",
        "    if is_gpu_available:\n",
        "      z_ = z_.cuda()\n",
        "    \n",
        "    test_images = G(z_)\n",
        "\n",
        "    if is_gpu_available:\n",
        "        G.train().cuda()\n",
        "        D.train().cuda()\n",
        "    else:\n",
        "        G.train()\n",
        "        D.train()\n",
        "\n",
        "\n",
        "    size_figure_grid = 5\n",
        "    fig, ax = plt.subplots(size_figure_grid, size_figure_grid, figsize=(5, 5))\n",
        "    for i, j in itertools.product(range(size_figure_grid), range(size_figure_grid)):\n",
        "        ax[i, j].get_xaxis().set_visible(False)\n",
        "        ax[i, j].get_yaxis().set_visible(False)\n",
        "\n",
        "    for k in range(5*5):\n",
        "        i = k // 5\n",
        "        j = k % 5\n",
        "        ax[i, j].cla()\n",
        "        ax[i, j].imshow(test_images[k, :].cpu().data.view(28, 28).numpy(), cmap='gray')\n",
        "\n",
        "    label = 'Epoch {0}'.format(num_epoch)\n",
        "    fig.text(0.5, 0.04, label, ha='center')\n",
        "    plt.savefig(path)\n",
        "\n",
        "    if show:\n",
        "        plt.show()\n",
        "    else:\n",
        "        plt.close()\n",
        "\n",
        "def show_train_hist(hist, show = False, save = False, path = 'Train_hist.png'):\n",
        "    x = range(len(hist['D_losses']))\n",
        "\n",
        "    y1 = hist['D_losses']\n",
        "    y2 = hist['G_losses']\n",
        "\n",
        "    plt.plot(x, y1, label='D_loss')\n",
        "    plt.plot(x, y2, label='G_loss')\n",
        "\n",
        "    plt.xlabel('Epoch')\n",
        "    plt.ylabel('Loss')\n",
        "\n",
        "    plt.legend(loc=4)\n",
        "    plt.grid(True)\n",
        "    plt.tight_layout()\n",
        "\n",
        "    if save:\n",
        "        plt.savefig(path)\n",
        "\n",
        "    if show:\n",
        "        plt.show()\n",
        "    else:\n",
        "        plt.close()\n",
        "\n",
        "# results save folder\n",
        "if not os.path.isdir('MNIST_GAN_results'):\n",
        "    os.mkdir('MNIST_GAN_results')\n",
        "if not os.path.isdir('MNIST_GAN_results/training_results'):\n",
        "    os.mkdir('MNIST_GAN_results/training_results')"
      ],
      "execution_count": 13,
      "outputs": []
    },
    {
      "cell_type": "markdown",
      "metadata": {
        "id": "vtyTCVYOZts3",
        "colab_type": "text"
      },
      "source": [
        "# IV) Training phase"
      ]
    },
    {
      "cell_type": "code",
      "metadata": {
        "id": "oziAHH8-ZvOM",
        "colab_type": "code",
        "colab": {}
      },
      "source": [
        "def train():\n",
        "    EPOCHS = 100\n",
        "    \n",
        "    if is_gpu_available:\n",
        "      G.train().cuda()\n",
        "    else:\n",
        "      G.train()\n",
        "\n",
        "    train_hist = {}\n",
        "    train_hist['D_losses'] = []\n",
        "    train_hist['G_losses'] = []\n",
        "        \n",
        "    for epoch in range(EPOCHS):\n",
        "        \n",
        "        D_losses = []\n",
        "        G_losses = []\n",
        "        \n",
        "        epoch_start_time = time.time()\n",
        "        \n",
        "        for i, (real_images, _) in enumerate(train_loader):\n",
        "            \n",
        "            batch_size = real_images.size(0)\n",
        "            real_images = real_images.view(-1, 28 * 28)\n",
        "                \n",
        "            # ---------TRAIN THE DISCRIMINATOR ----------------\n",
        "            D_optimizer.zero_grad()\n",
        "            \n",
        "            # 1. Train with real images.\n",
        "            if is_gpu_available:\n",
        "                real_images = real_images.cuda()\n",
        "            \n",
        "            # Compute the discriminator losses on real images\n",
        "            # smooth the real labels.\n",
        "            D_real = D(real_images)\n",
        "            D_real_loss = real_loss(D_real, smooth=True)\n",
        "            \n",
        "            # 2. Train with fake images.\n",
        "            # Generate fake images.\n",
        "            z = torch.randn((batch_size, 100))\n",
        "            \n",
        "            if is_gpu_available:\n",
        "                z = z.cuda()\n",
        "            \n",
        "            fake_images = G(z)\n",
        "            \n",
        "            # 3. Compute the discriminator losses on fake images.\n",
        "            D_fake = D(fake_images)\n",
        "            D_fake_loss = fake_loss(D_fake)\n",
        "            \n",
        "            # 4. Add up real and fake loss.\n",
        "            D_loss = D_real_loss + D_fake_loss\n",
        "            \n",
        "            # 5. Perform backprop and optimization step.\n",
        "            D_loss.backward()\n",
        "            D_optimizer.step()\n",
        "            \n",
        "            D_losses.append(D_loss.item())\n",
        "            \n",
        "            # ---------TRAIN THE GENERATOR ----------------\n",
        "            \n",
        "            G_optimizer.zero_grad()\n",
        "            \n",
        "            # 1. Generate fake images.\n",
        "            z = torch.randn((batch_size, 100))\n",
        "            \n",
        "            if is_gpu_available:\n",
        "                z = z.cuda()\n",
        "            \n",
        "            fake_images = G(z)\n",
        "            \n",
        "            # 2. Compute the discriminator loss on fake images\n",
        "            # using flipped labels.\n",
        "            D_fake = D(fake_images)\n",
        "            G_loss = real_loss(D_fake) # use real loss to flip labels.\n",
        "            \n",
        "            # 3. Perform backprop and optimization step.        \n",
        "            G_loss.backward()\n",
        "            G_optimizer.step()\n",
        "            \n",
        "            G_losses.append(G_loss.item())\n",
        "        \n",
        "        epoch_end_time = time.time()\n",
        "        per_epoch_ptime = epoch_end_time - epoch_start_time\n",
        "    \n",
        "        # Print discriminator and generator loss.\n",
        "        info = \"[Epoch {}/{}] ({:0.3f}s): D_loss = {:0.6f} | G_loss = {:0.6f}\"\n",
        "        print(info.format(epoch+1, EPOCHS, per_epoch_ptime, torch.mean(torch.FloatTensor(D_losses)), torch.mean(torch.FloatTensor(G_losses))))\n",
        "        \n",
        "        fixed_p = 'MNIST_GAN_results/training_results/MNIST_GAN_' + str(epoch + 1) + '.png'\n",
        "        show_result(epoch+1, save=True, path=fixed_p)\n",
        "\n",
        "        if G.training:\n",
        "          print(\"G.train() = True\")\n",
        "        else:\n",
        "          print(\"G.train() = False\")\n",
        "\n",
        "        train_hist['D_losses'].append(torch.mean(torch.FloatTensor(D_losses)))\n",
        "        train_hist['G_losses'].append(torch.mean(torch.FloatTensor(G_losses)))\n",
        "              \n",
        "    print(\"Training finish!... save training results\")\n",
        "    torch.save(G.state_dict(), \"MNIST_GAN_results/generator_param.pkl\")\n",
        "    torch.save(D.state_dict(), \"MNIST_GAN_results/discriminator_param.pkl\")"
      ],
      "execution_count": 14,
      "outputs": []
    },
    {
      "cell_type": "code",
      "metadata": {
        "id": "7MrzjaViZ058",
        "colab_type": "code",
        "colab": {
          "base_uri": "https://localhost:8080/",
          "height": 327
        },
        "outputId": "32fad674-dac5-481f-ecf6-08ba51229c65"
      },
      "source": [
        "train()"
      ],
      "execution_count": 15,
      "outputs": [
        {
          "output_type": "error",
          "ename": "RuntimeError",
          "evalue": "ignored",
          "traceback": [
            "\u001b[0;31m---------------------------------------------------------------------------\u001b[0m",
            "\u001b[0;31mRuntimeError\u001b[0m                              Traceback (most recent call last)",
            "\u001b[0;32m<ipython-input-15-2da0ffaf5447>\u001b[0m in \u001b[0;36m<module>\u001b[0;34m()\u001b[0m\n\u001b[0;32m----> 1\u001b[0;31m \u001b[0mtrain\u001b[0m\u001b[0;34m(\u001b[0m\u001b[0;34m)\u001b[0m\u001b[0;34m\u001b[0m\u001b[0;34m\u001b[0m\u001b[0m\n\u001b[0m",
            "\u001b[0;32m<ipython-input-14-c38b3f6d8c67>\u001b[0m in \u001b[0;36mtrain\u001b[0;34m()\u001b[0m\n\u001b[1;32m     33\u001b[0m             \u001b[0;31m# smooth the real labels.\u001b[0m\u001b[0;34m\u001b[0m\u001b[0;34m\u001b[0m\u001b[0;34m\u001b[0m\u001b[0m\n\u001b[1;32m     34\u001b[0m             \u001b[0mD_real\u001b[0m \u001b[0;34m=\u001b[0m \u001b[0mD\u001b[0m\u001b[0;34m(\u001b[0m\u001b[0mreal_images\u001b[0m\u001b[0;34m)\u001b[0m\u001b[0;34m\u001b[0m\u001b[0;34m\u001b[0m\u001b[0m\n\u001b[0;32m---> 35\u001b[0;31m             \u001b[0mD_real_loss\u001b[0m \u001b[0;34m=\u001b[0m \u001b[0mreal_loss\u001b[0m\u001b[0;34m(\u001b[0m\u001b[0mD_real\u001b[0m\u001b[0;34m,\u001b[0m \u001b[0msmooth\u001b[0m\u001b[0;34m=\u001b[0m\u001b[0;32mTrue\u001b[0m\u001b[0;34m)\u001b[0m\u001b[0;34m\u001b[0m\u001b[0;34m\u001b[0m\u001b[0m\n\u001b[0m\u001b[1;32m     36\u001b[0m \u001b[0;34m\u001b[0m\u001b[0m\n\u001b[1;32m     37\u001b[0m             \u001b[0;31m# 2. Train with fake images.\u001b[0m\u001b[0;34m\u001b[0m\u001b[0;34m\u001b[0m\u001b[0;34m\u001b[0m\u001b[0m\n",
            "\u001b[0;32m<ipython-input-12-70e112ed49fe>\u001b[0m in \u001b[0;36mreal_loss\u001b[0;34m(D_out, smooth)\u001b[0m\n\u001b[1;32m     22\u001b[0m \u001b[0;34m\u001b[0m\u001b[0m\n\u001b[1;32m     23\u001b[0m     \u001b[0;32mif\u001b[0m \u001b[0mis_gpu_available\u001b[0m\u001b[0;34m:\u001b[0m\u001b[0;34m\u001b[0m\u001b[0;34m\u001b[0m\u001b[0m\n\u001b[0;32m---> 24\u001b[0;31m         \u001b[0mlabels\u001b[0m \u001b[0;34m=\u001b[0m \u001b[0mlabels\u001b[0m\u001b[0;34m.\u001b[0m\u001b[0mcuda\u001b[0m\u001b[0;34m(\u001b[0m\u001b[0;34m)\u001b[0m\u001b[0;34m\u001b[0m\u001b[0;34m\u001b[0m\u001b[0m\n\u001b[0m\u001b[1;32m     25\u001b[0m \u001b[0;34m\u001b[0m\u001b[0m\n\u001b[1;32m     26\u001b[0m     \u001b[0;31m# calculate loss\u001b[0m\u001b[0;34m\u001b[0m\u001b[0;34m\u001b[0m\u001b[0;34m\u001b[0m\u001b[0m\n",
            "\u001b[0;31mRuntimeError\u001b[0m: CUDA error: an illegal memory access was encountered"
          ]
        }
      ]
    },
    {
      "cell_type": "markdown",
      "metadata": {
        "id": "FvfmbRX3Z3ja",
        "colab_type": "text"
      },
      "source": [
        "# V) Results\n"
      ]
    },
    {
      "cell_type": "code",
      "metadata": {
        "id": "ZVJh-I7qZ45i",
        "colab_type": "code",
        "colab": {}
      },
      "source": [
        "with open('MNIST_GAN_results/train_hist.pkl', 'wb') as f:\n",
        "    pickle.dump(train_hist, f)\n",
        "\n",
        "show_train_hist(train_hist, save=True, path='MNIST_GAN_results/MNIST_GAN_train_hist.png')\n",
        "\n",
        "images = []\n",
        "for e in range(train_epoch):\n",
        "    img_name = 'MNIST_GAN_results/Fixed_results/MNIST_GAN_' + str(e + 1) + '.png'\n",
        "    images.append(imageio.imread(img_name))\n",
        "imageio.mimsave('MNIST_GAN_results/generation_animation.gif', images, fps=5)"
      ],
      "execution_count": null,
      "outputs": []
    }
  ]
}